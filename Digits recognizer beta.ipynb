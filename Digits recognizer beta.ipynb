{
 "cells": [
  {
   "cell_type": "code",
   "execution_count": 31,
   "id": "36ef3f68",
   "metadata": {},
   "outputs": [],
   "source": [
    "import pandas as pd\n",
    "import numpy as np\n",
    "import matplotlib.pyplot as plt\n",
    "%matplotlib inline\n",
    "from sklearn.model_selection import train_test_split\n",
    "from keras.utils.np_utils import to_categorical\n",
    "from keras.models import Sequential\n",
    "from keras.layers import Dense, Dropout, Flatten, Conv2D, MaxPool2D\n",
    "from tensorflow.keras.optimizers import RMSprop\n",
    "from keras.preprocessing.image import ImageDataGenerator\n",
    "from keras.callbacks import ReduceLROnPlateau, CSVLogger"
   ]
  },
  {
   "cell_type": "code",
   "execution_count": 11,
   "id": "d562e442",
   "metadata": {},
   "outputs": [],
   "source": [
    "# Define variables\n",
    "TRAINING_LOGS_FILE = \"training_logs.csv\"\n",
    "MODEL_SUMMARY_FILE = \"model_summary.txt\"\n",
    "MODEL_FILE = \"model.h5\"\n",
    "TRAINING_PLOT_FILE = \"training.png\"\n",
    "VALIDATION_PLOT_FILE = \"validation.png\"\n",
    "KAGGLE_SUBMISSION_FILE = \"kaggle_submission.csv\""
   ]
  },
  {
   "cell_type": "code",
   "execution_count": 12,
   "id": "1da0a38f",
   "metadata": {},
   "outputs": [],
   "source": [
    "# Set hyper-parameters\n",
    "VERBOSITY = 1\n",
    "EPOCHS = 100\n",
    "BATCH_SIZE = 512\n",
    "CLASSES = 10\n",
    "CHANNELS = 1\n",
    "IMAGE_SIZE = 28\n",
    "IMAGE_WIDTH, IMAGE_HEIGHT = IMAGE_SIZE, IMAGE_SIZE\n",
    "VALIDATION_RATIO = 0.1"
   ]
  },
  {
   "cell_type": "code",
   "execution_count": 18,
   "id": "200681ad",
   "metadata": {},
   "outputs": [],
   "source": [
    "# Load the data (https://www.kaggle.com/c/digit-recognizer/data)\n",
    "\n",
    "path = \"/Users/jeancharles/Desktop/Computer Vision-Qualification goals/Digit-Recognizer-git/Data copy\"\n",
    "    \n",
    "train = pd.read_csv(path + \"/train.csv\")\n",
    "test = pd.read_csv(path + \"/test.csv\")\n",
    "\n",
    "y = train[\"label\"]\n",
    "x = train.drop(labels = [\"label\"], axis = 1) "
   ]
  },
  {
   "cell_type": "code",
   "execution_count": 23,
   "id": "d6c64ab1",
   "metadata": {},
   "outputs": [],
   "source": [
    "# Reshape data\n",
    "x = x.values.reshape(-1, IMAGE_WIDTH, IMAGE_HEIGHT, CHANNELS)\n",
    "test = test.values.reshape(-1, IMAGE_WIDTH, IMAGE_HEIGHT, CHANNELS)"
   ]
  },
  {
   "cell_type": "code",
   "execution_count": 24,
   "id": "3c79dd35",
   "metadata": {},
   "outputs": [],
   "source": [
    "# One-Hot encoding\n",
    "y = to_categorical(y, num_classes=CLASSES)"
   ]
  },
  {
   "cell_type": "code",
   "execution_count": 25,
   "id": "bf579cd2",
   "metadata": {},
   "outputs": [],
   "source": [
    "# Prepare training/validation sets\n",
    "x_training, x_validation, y_training, y_validation = train_test_split(x,\n",
    "                                                                      y,\n",
    "                                                                      test_size=VALIDATION_RATIO,\n",
    "                                                                      shuffle = True)\n"
   ]
  },
  {
   "cell_type": "code",
   "execution_count": 26,
   "id": "13f4e16d",
   "metadata": {},
   "outputs": [
    {
     "name": "stderr",
     "output_type": "stream",
     "text": [
      "2022-07-01 19:30:30.676628: I tensorflow/core/common_runtime/pluggable_device/pluggable_device_factory.cc:305] Could not identify NUMA node of platform GPU ID 0, defaulting to 0. Your kernel may not have been built with NUMA support.\n",
      "2022-07-01 19:30:30.679538: I tensorflow/core/common_runtime/pluggable_device/pluggable_device_factory.cc:271] Created TensorFlow device (/job:localhost/replica:0/task:0/device:GPU:0 with 0 MB memory) -> physical PluggableDevice (device: 0, name: METAL, pci bus id: <undefined>)\n"
     ]
    },
    {
     "name": "stdout",
     "output_type": "stream",
     "text": [
      "Metal device set to: Apple M1\n"
     ]
    },
    {
     "name": "stderr",
     "output_type": "stream",
     "text": [
      "/Users/jeancharles/miniforge3/lib/python3.9/site-packages/keras/optimizer_v2/rmsprop.py:130: UserWarning: The `lr` argument is deprecated, use `learning_rate` instead.\n",
      "  super(RMSprop, self).__init__(name, **kwargs)\n"
     ]
    }
   ],
   "source": [
    "# Model (0.995)\n",
    "model = Sequential()\n",
    "\n",
    "model.add(Conv2D(filters=32,\n",
    "                 kernel_size=(5,5),\n",
    "                 padding='Same', \n",
    "                 activation='relu',\n",
    "                 input_shape=(IMAGE_WIDTH, IMAGE_HEIGHT, CHANNELS)))\n",
    "model.add(Conv2D(filters=32,\n",
    "                 kernel_size=(5,5),\n",
    "                 padding='Same', \n",
    "                 activation='relu'))\n",
    "model.add(MaxPool2D(pool_size=(2,2)))\n",
    "model.add(Dropout(0.5))\n",
    "\n",
    "model.add(Conv2D(filters=64, kernel_size=(3,3),padding='Same', \n",
    "                 activation='relu'))\n",
    "model.add(Conv2D(filters=64, kernel_size=(3,3),padding='Same', \n",
    "                 activation='relu'))\n",
    "model.add(MaxPool2D(pool_size=(2,2), strides=(2,2)))\n",
    "model.add(Dropout(0.5))\n",
    "\n",
    "model.add(Flatten())\n",
    "model.add(Dense(8192, activation='relu'))\n",
    "model.add(Dropout(0.5))\n",
    "\n",
    "model.add(Dense(2048, activation='relu'))\n",
    "model.add(Dropout(0.5))\n",
    "\n",
    "model.add(Dense(CLASSES, activation=\"softmax\"))\n",
    "\n",
    "model.compile(optimizer=RMSprop(lr=0.0001,\n",
    "                                rho=0.9,\n",
    "                                epsilon=1e-08,\n",
    "                                decay=0.00001),\n",
    "              loss=\"categorical_crossentropy\",\n",
    "              metrics=[\"accuracy\"])\n",
    "\n",
    "with open(MODEL_SUMMARY_FILE,\"w\") as fh:\n",
    "    model.summary(print_fn=lambda line: fh.write(line + \"\\n\"))"
   ]
  },
  {
   "cell_type": "code",
   "execution_count": 27,
   "id": "06479ae5",
   "metadata": {},
   "outputs": [],
   "source": [
    "# Data augmentation\n",
    "data_generator = ImageDataGenerator(rescale=1./255,\n",
    "                                    rotation_range=1,\n",
    "                                    zoom_range=0.1, \n",
    "                                    width_shift_range=0.05,\n",
    "                                    height_shift_range=0.05)\n",
    "data_generator.fit(x_training)"
   ]
  },
  {
   "cell_type": "code",
   "execution_count": 28,
   "id": "08714a3d",
   "metadata": {},
   "outputs": [
    {
     "data": {
      "image/png": "[encoded data removed]",
      "text/plain": [
       "<Figure size 864x576 with 2 Axes>"
      ]
     },
     "metadata": {
      "needs_background": "light"
     },
     "output_type": "display_data"
    },
    {
     "name": "stdout",
     "output_type": "stream",
     "text": [
      "accuracy\n",
      "\ttraining         \t (min:    0.589, max:    0.995, cur:    0.995)\n",
      "\tvalidation       \t (min:    0.885, max:    0.995, cur:    0.993)\n",
      "Loss\n",
      "\ttraining         \t (min:    0.015, max:    1.198, cur:    0.015)\n",
      "\tvalidation       \t (min:    3.842, max:   35.547, cur:    5.473)\n",
      "\b\b\b\b\b\b\b\b\b\b\b\b\b\b\b\b\b\b\b\b\b\b\b\b\b\b\b\b\b\b\b\b\b\b\b\b\b\b\b\b\b\b\b\b\b\b\b\b\b\b\b\b\b\b\b\b\b\b\b\b\b\b\b\b\b\b\b\b\b\b\b\b\b\b\b\b\b\b\b\b\b\b\r",
      "73/73 [==============================] - 29s 404ms/step - loss: 0.0146 - accuracy: 0.9955 - val_loss: 5.4729 - val_accuracy: 0.9931\n"
     ]
    }
   ],
   "source": [
    "# Training\n",
    "history = model.fit_generator(data_generator.flow(x_training,\n",
    "                                                  y_training,\n",
    "                                                  batch_size=BATCH_SIZE),\n",
    "                              epochs=EPOCHS,\n",
    "                              validation_data=(x_validation, y_validation),\n",
    "                              verbose=VERBOSITY,\n",
    "                              steps_per_epoch=x_training.shape[0] // BATCH_SIZE,\n",
    "                              callbacks=[PlotLossesKeras(),\n",
    "                                         CSVLogger(TRAINING_LOGS_FILE,\n",
    "                                                   append=False,\n",
    "                                                   separator=\";\")])\n",
    "model.save_weights(MODEL_FILE)"
   ]
  },
  {
   "cell_type": "code",
   "execution_count": 33,
   "id": "12bb45c6",
   "metadata": {},
   "outputs": [],
   "source": [
    "# Testing\n",
    "\n",
    "predict_x=model.predict(test) \n",
    "classes_x=np.argmax(predict_x,axis=1)\n",
    "\n",
    "pd.DataFrame({\"ImageId\":list(range(1,len(classes_x)+1)),\n",
    "              \"Label\":classes_x}).to_csv(KAGGLE_SUBMISSION_FILE,\n",
    "                                           index=False,\n",
    "                                           header=True)"
   ]
  },
  {
   "cell_type": "code",
   "execution_count": 40,
   "id": "f39a5f6c",
   "metadata": {},
   "outputs": [],
   "source": [
    "# Drawing plots\n",
    "epochs = [i for i in range(1, len(history.history['loss'])+1)]\n",
    "\n",
    "plt.plot(epochs, history.history['loss'], color='blue', label=\"training_loss\")\n",
    "plt.plot(epochs, history.history['val_loss'], color='red', label=\"validation_loss\")\n",
    "plt.legend(loc='best')\n",
    "plt.title('training')\n",
    "plt.xlabel('epoch')\n",
    "plt.savefig(TRAINING_PLOT_FILE, bbox_inches='tight')\n",
    "plt.close()\n",
    "\n",
    "plt.plot(epochs, history.history['accuracy'], color='blue', label=\"training_accuracy\")\n",
    "plt.plot(epochs, history.history['val_accuracy'], color='red',label=\"validation_accuracy\")\n",
    "plt.legend(loc='best')\n",
    "plt.title('validation')\n",
    "plt.xlabel('epoch')\n",
    "plt.savefig(VALIDATION_PLOT_FILE, bbox_inches='tight')\n",
    "plt.close()"
   ]
  },
  {
   "cell_type": "code",
   "execution_count": null,
   "id": "84292423",
   "metadata": {},
   "outputs": [],
   "source": []
  },
  {
   "cell_type": "code",
   "execution_count": null,
   "id": "7ce9b896",
   "metadata": {},
   "outputs": [],
   "source": []
  },
  {
   "cell_type": "code",
   "execution_count": null,
   "id": "4e375a13",
   "metadata": {},
   "outputs": [],
   "source": []
  },
  {
   "cell_type": "code",
   "execution_count": null,
   "id": "2edb083f",
   "metadata": {},
   "outputs": [],
   "source": []
  }
 ],
 "metadata": {
  "kernelspec": {
   "display_name": "venv1",
   "language": "python",
   "name": "venv1"
  },
  "language_info": {
   "codemirror_mode": {
    "name": "ipython",
    "version": 3
   },
   "file_extension": ".py",
   "mimetype": "text/x-python",
   "name": "python",
   "nbconvert_exporter": "python",
   "pygments_lexer": "ipython3",
   "version": "3.9.10"
  }
 },
 "nbformat": 4,
 "nbformat_minor": 5
}
